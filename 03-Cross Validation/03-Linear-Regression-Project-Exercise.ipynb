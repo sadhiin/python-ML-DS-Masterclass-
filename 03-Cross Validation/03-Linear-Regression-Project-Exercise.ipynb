{
 "cells": [
  {
   "cell_type": "markdown",
   "metadata": {},
   "source": [
    "___\n",
    "\n",
    "<a href='http://www.pieriandata.com'><img src='../Pierian_Data_Logo.png'/></a>\n",
    "___\n",
    "<center><em>Copyright by Pierian Data Inc.</em></center>\n",
    "<center><em>For more information, visit us at <a href='http://www.pieriandata.com'>www.pieriandata.com</a></em></center>"
   ]
  },
  {
   "cell_type": "markdown",
   "metadata": {},
   "source": [
    "# Linear Regression Project Exercise "
   ]
  },
  {
   "cell_type": "markdown",
   "metadata": {},
   "source": [
    "Now that we have learned about feature engineering, cross validation, and grid search, let's test all your new skills with a project exercise in Machine Learning. This exercise will have a more guided approach, later on the ML projects will begin to be more open-ended. We'll start off with using the final version of the Ames Housing dataset we worked on through the feature engineering section of the course. Your goal will be to create a Linear Regression Model, train it on the data with the optimal parameters using a grid search, and then evaluate the model's capabilities on a test set."
   ]
  },
  {
   "cell_type": "markdown",
   "metadata": {},
   "source": [
    "---\n",
    "---\n",
    "---\n",
    "## Complete the tasks in bold\n",
    "\n",
    "**TASK: Run the cells under the Imports and Data section to make sure you have imported the correct general libraries as well as the correct datasets. Later on you may need to run further imports from scikit-learn.**\n",
    "\n",
    "### Imports"
   ]
  },
  {
   "cell_type": "code",
   "execution_count": 1,
   "metadata": {},
   "outputs": [],
   "source": [
    "import numpy as np\n",
    "import pandas as pd\n",
    "import matplotlib.pyplot as plt\n",
    "import seaborn as sns"
   ]
  },
  {
   "cell_type": "markdown",
   "metadata": {},
   "source": [
    "### Data"
   ]
  },
  {
   "cell_type": "code",
   "execution_count": 2,
   "metadata": {},
   "outputs": [],
   "source": [
    "df = pd.read_csv(\"../DATA/AMES_Final_DF.csv\")"
   ]
  },
  {
   "cell_type": "code",
   "execution_count": 10,
   "metadata": {},
   "outputs": [
    {
     "data": {
      "text/plain": [
       "array(['Lot Frontage', 'Lot Area', 'Overall Qual', 'Overall Cond',\n",
       "       'Year Built', 'Year Remod/Add', 'Mas Vnr Area', 'BsmtFin SF 1',\n",
       "       'BsmtFin SF 2', 'Bsmt Unf SF', 'Total Bsmt SF', '1st Flr SF',\n",
       "       '2nd Flr SF', 'Low Qual Fin SF', 'Gr Liv Area', 'Bsmt Full Bath',\n",
       "       'Bsmt Half Bath', 'Full Bath', 'Half Bath', 'Bedroom AbvGr',\n",
       "       'Kitchen AbvGr', 'TotRms AbvGrd', 'Fireplaces', 'Garage Yr Blt',\n",
       "       'Garage Cars', 'Garage Area', 'Wood Deck SF', 'Open Porch SF',\n",
       "       'Enclosed Porch', '3Ssn Porch', 'Screen Porch', 'Pool Area',\n",
       "       'Misc Val', 'Mo Sold', 'Yr Sold', 'SalePrice', 'MS SubClass_150',\n",
       "       'MS SubClass_160', 'MS SubClass_180', 'MS SubClass_190',\n",
       "       'MS SubClass_20', 'MS SubClass_30', 'MS SubClass_40',\n",
       "       'MS SubClass_45', 'MS SubClass_50', 'MS SubClass_60',\n",
       "       'MS SubClass_70', 'MS SubClass_75', 'MS SubClass_80',\n",
       "       'MS SubClass_85', 'MS SubClass_90', 'MS Zoning_C (all)',\n",
       "       'MS Zoning_FV', 'MS Zoning_I (all)', 'MS Zoning_RH',\n",
       "       'MS Zoning_RL', 'MS Zoning_RM', 'Street_Pave', 'Lot Shape_IR2',\n",
       "       'Lot Shape_IR3', 'Lot Shape_Reg', 'Land Contour_HLS',\n",
       "       'Land Contour_Low', 'Land Contour_Lvl', 'Utilities_NoSeWa',\n",
       "       'Utilities_NoSewr', 'Lot Config_CulDSac', 'Lot Config_FR2',\n",
       "       'Lot Config_FR3', 'Lot Config_Inside', 'Land Slope_Mod',\n",
       "       'Land Slope_Sev', 'Neighborhood_Blueste', 'Neighborhood_BrDale',\n",
       "       'Neighborhood_BrkSide', 'Neighborhood_ClearCr',\n",
       "       'Neighborhood_CollgCr', 'Neighborhood_Crawfor',\n",
       "       'Neighborhood_Edwards', 'Neighborhood_Gilbert',\n",
       "       'Neighborhood_Greens', 'Neighborhood_GrnHill',\n",
       "       'Neighborhood_IDOTRR', 'Neighborhood_Landmrk',\n",
       "       'Neighborhood_MeadowV', 'Neighborhood_Mitchel',\n",
       "       'Neighborhood_NAmes', 'Neighborhood_NPkVill',\n",
       "       'Neighborhood_NWAmes', 'Neighborhood_NoRidge',\n",
       "       'Neighborhood_NridgHt', 'Neighborhood_OldTown',\n",
       "       'Neighborhood_SWISU', 'Neighborhood_Sawyer',\n",
       "       'Neighborhood_SawyerW', 'Neighborhood_Somerst',\n",
       "       'Neighborhood_StoneBr', 'Neighborhood_Timber',\n",
       "       'Neighborhood_Veenker', 'Condition 1_Feedr', 'Condition 1_Norm',\n",
       "       'Condition 1_PosA', 'Condition 1_PosN', 'Condition 1_RRAe',\n",
       "       'Condition 1_RRAn', 'Condition 1_RRNe', 'Condition 1_RRNn',\n",
       "       'Condition 2_Feedr', 'Condition 2_Norm', 'Condition 2_PosA',\n",
       "       'Condition 2_PosN', 'Condition 2_RRAe', 'Condition 2_RRAn',\n",
       "       'Condition 2_RRNn', 'Bldg Type_2fmCon', 'Bldg Type_Duplex',\n",
       "       'Bldg Type_Twnhs', 'Bldg Type_TwnhsE', 'House Style_1.5Unf',\n",
       "       'House Style_1Story', 'House Style_2.5Fin', 'House Style_2.5Unf',\n",
       "       'House Style_2Story', 'House Style_SFoyer', 'House Style_SLvl',\n",
       "       'Roof Style_Gable', 'Roof Style_Gambrel', 'Roof Style_Hip',\n",
       "       'Roof Style_Mansard', 'Roof Style_Shed', 'Roof Matl_Membran',\n",
       "       'Roof Matl_Metal', 'Roof Matl_Roll', 'Roof Matl_Tar&Grv',\n",
       "       'Roof Matl_WdShake', 'Roof Matl_WdShngl', 'Exterior 1st_AsphShn',\n",
       "       'Exterior 1st_BrkComm', 'Exterior 1st_BrkFace',\n",
       "       'Exterior 1st_CBlock', 'Exterior 1st_CemntBd',\n",
       "       'Exterior 1st_HdBoard', 'Exterior 1st_ImStucc',\n",
       "       'Exterior 1st_MetalSd', 'Exterior 1st_Plywood',\n",
       "       'Exterior 1st_PreCast', 'Exterior 1st_Stone',\n",
       "       'Exterior 1st_Stucco', 'Exterior 1st_VinylSd',\n",
       "       'Exterior 1st_Wd Sdng', 'Exterior 1st_WdShing',\n",
       "       'Exterior 2nd_AsphShn', 'Exterior 2nd_Brk Cmn',\n",
       "       'Exterior 2nd_BrkFace', 'Exterior 2nd_CBlock',\n",
       "       'Exterior 2nd_CmentBd', 'Exterior 2nd_HdBoard',\n",
       "       'Exterior 2nd_ImStucc', 'Exterior 2nd_MetalSd',\n",
       "       'Exterior 2nd_Other', 'Exterior 2nd_Plywood',\n",
       "       'Exterior 2nd_PreCast', 'Exterior 2nd_Stone',\n",
       "       'Exterior 2nd_Stucco', 'Exterior 2nd_VinylSd',\n",
       "       'Exterior 2nd_Wd Sdng', 'Exterior 2nd_Wd Shng',\n",
       "       'Mas Vnr Type_BrkFace', 'Mas Vnr Type_CBlock', 'Mas Vnr Type_None',\n",
       "       'Mas Vnr Type_Stone', 'Exter Qual_Fa', 'Exter Qual_Gd',\n",
       "       'Exter Qual_TA', 'Exter Cond_Fa', 'Exter Cond_Gd', 'Exter Cond_Po',\n",
       "       'Exter Cond_TA', 'Foundation_CBlock', 'Foundation_PConc',\n",
       "       'Foundation_Slab', 'Foundation_Stone', 'Foundation_Wood',\n",
       "       'Bsmt Qual_Fa', 'Bsmt Qual_Gd', 'Bsmt Qual_None', 'Bsmt Qual_Po',\n",
       "       'Bsmt Qual_TA', 'Bsmt Cond_Fa', 'Bsmt Cond_Gd', 'Bsmt Cond_None',\n",
       "       'Bsmt Cond_Po', 'Bsmt Cond_TA', 'Bsmt Exposure_Gd',\n",
       "       'Bsmt Exposure_Mn', 'Bsmt Exposure_No', 'Bsmt Exposure_None',\n",
       "       'BsmtFin Type 1_BLQ', 'BsmtFin Type 1_GLQ', 'BsmtFin Type 1_LwQ',\n",
       "       'BsmtFin Type 1_None', 'BsmtFin Type 1_Rec', 'BsmtFin Type 1_Unf',\n",
       "       'BsmtFin Type 2_BLQ', 'BsmtFin Type 2_GLQ', 'BsmtFin Type 2_LwQ',\n",
       "       'BsmtFin Type 2_None', 'BsmtFin Type 2_Rec', 'BsmtFin Type 2_Unf',\n",
       "       'Heating_GasA', 'Heating_GasW', 'Heating_Grav', 'Heating_OthW',\n",
       "       'Heating_Wall', 'Heating QC_Fa', 'Heating QC_Gd', 'Heating QC_Po',\n",
       "       'Heating QC_TA', 'Central Air_Y', 'Electrical_FuseF',\n",
       "       'Electrical_FuseP', 'Electrical_Mix', 'Electrical_SBrkr',\n",
       "       'Kitchen Qual_Fa', 'Kitchen Qual_Gd', 'Kitchen Qual_Po',\n",
       "       'Kitchen Qual_TA', 'Functional_Maj2', 'Functional_Min1',\n",
       "       'Functional_Min2', 'Functional_Mod', 'Functional_Sal',\n",
       "       'Functional_Sev', 'Functional_Typ', 'Fireplace Qu_Fa',\n",
       "       'Fireplace Qu_Gd', 'Fireplace Qu_None', 'Fireplace Qu_Po',\n",
       "       'Fireplace Qu_TA', 'Garage Type_Attchd', 'Garage Type_Basment',\n",
       "       'Garage Type_BuiltIn', 'Garage Type_CarPort', 'Garage Type_Detchd',\n",
       "       'Garage Type_None', 'Garage Finish_None', 'Garage Finish_RFn',\n",
       "       'Garage Finish_Unf', 'Garage Qual_Fa', 'Garage Qual_Gd',\n",
       "       'Garage Qual_None', 'Garage Qual_Po', 'Garage Qual_TA',\n",
       "       'Garage Cond_Fa', 'Garage Cond_Gd', 'Garage Cond_None',\n",
       "       'Garage Cond_Po', 'Garage Cond_TA', 'Paved Drive_P',\n",
       "       'Paved Drive_Y', 'Sale Type_CWD', 'Sale Type_Con',\n",
       "       'Sale Type_ConLD', 'Sale Type_ConLI', 'Sale Type_ConLw',\n",
       "       'Sale Type_New', 'Sale Type_Oth', 'Sale Type_VWD', 'Sale Type_WD ',\n",
       "       'Sale Condition_AdjLand', 'Sale Condition_Alloca',\n",
       "       'Sale Condition_Family', 'Sale Condition_Normal',\n",
       "       'Sale Condition_Partial'], dtype=object)"
      ]
     },
     "execution_count": 10,
     "metadata": {},
     "output_type": "execute_result"
    }
   ],
   "source": [
    "np.array(df.columns)"
   ]
  },
  {
   "cell_type": "code",
   "execution_count": 4,
   "metadata": {},
   "outputs": [
    {
     "name": "stdout",
     "output_type": "stream",
     "text": [
      "<class 'pandas.core.frame.DataFrame'>\n",
      "RangeIndex: 2925 entries, 0 to 2924\n",
      "Columns: 274 entries, Lot Frontage to Sale Condition_Partial\n",
      "dtypes: float64(11), int64(263)\n",
      "memory usage: 6.1 MB\n"
     ]
    }
   ],
   "source": [
    "df.info()"
   ]
  },
  {
   "cell_type": "markdown",
   "metadata": {},
   "source": [
    "**TASK: The label we are trying to predict is the SalePrice column. Separate out the data into X features and y labels**"
   ]
  },
  {
   "cell_type": "code",
   "execution_count": 13,
   "metadata": {},
   "outputs": [],
   "source": [
    "X = df.drop('SalePrice',axis=1)\n",
    "y = df['SalePrice']"
   ]
  },
  {
   "cell_type": "markdown",
   "metadata": {},
   "source": [
    "**TASK: Use scikit-learn to split up X and y into a training set and test set. Since we will later be using a Grid Search strategy, set your test proportion to 10%. To get the same data split as the solutions notebook, you can specify random_state = 101**"
   ]
  },
  {
   "cell_type": "code",
   "execution_count": 14,
   "metadata": {},
   "outputs": [],
   "source": [
    "from sklearn.model_selection import train_test_split\n",
    "\n",
    "X_train, X_test, y_train, y_test = train_test_split(X, y, test_size=0.1, random_state=101)"
   ]
  },
  {
   "cell_type": "code",
   "execution_count": 35,
   "metadata": {},
   "outputs": [],
   "source": []
  },
  {
   "cell_type": "markdown",
   "metadata": {},
   "source": [
    "**TASK: The dataset features has a variety of scales and units. For optimal regression performance, scale the X features. Take carefuly note of what to use for .fit() vs what to use for .transform()**"
   ]
  },
  {
   "cell_type": "code",
   "execution_count": 36,
   "metadata": {},
   "outputs": [],
   "source": []
  },
  {
   "cell_type": "code",
   "execution_count": 37,
   "metadata": {},
   "outputs": [],
   "source": []
  },
  {
   "cell_type": "code",
   "execution_count": 38,
   "metadata": {},
   "outputs": [],
   "source": []
  },
  {
   "cell_type": "markdown",
   "metadata": {},
   "source": [
    "**TASK: We will use an Elastic Net model. Create an instance of default ElasticNet model with scikit-learn**"
   ]
  },
  {
   "cell_type": "code",
   "execution_count": 50,
   "metadata": {},
   "outputs": [],
   "source": []
  },
  {
   "cell_type": "code",
   "execution_count": 51,
   "metadata": {},
   "outputs": [],
   "source": []
  },
  {
   "cell_type": "markdown",
   "metadata": {},
   "source": [
    "**TASK:  The Elastic Net model has two main parameters, alpha and the L1 ratio. Create a dictionary parameter grid of values for the ElasticNet. Feel free to play around with these values, keep in mind, you may not match up exactly with the solution choices**"
   ]
  },
  {
   "cell_type": "code",
   "execution_count": 52,
   "metadata": {},
   "outputs": [],
   "source": []
  },
  {
   "cell_type": "markdown",
   "metadata": {},
   "source": [
    "**TASK: Using scikit-learn create a GridSearchCV object and run a grid search for the best parameters for your model based on your scaled training data. [In case you are curious about the warnings you may recieve for certain parameter combinations](https://stackoverflow.com/questions/20681864/lasso-on-sklearn-does-not-converge)**"
   ]
  },
  {
   "cell_type": "code",
   "execution_count": 53,
   "metadata": {},
   "outputs": [],
   "source": []
  },
  {
   "cell_type": "code",
   "execution_count": 42,
   "metadata": {},
   "outputs": [],
   "source": []
  },
  {
   "cell_type": "code",
   "execution_count": null,
   "metadata": {},
   "outputs": [],
   "source": []
  },
  {
   "cell_type": "markdown",
   "metadata": {},
   "source": [
    "**TASK: Display the best combination of parameters for your model**"
   ]
  },
  {
   "cell_type": "code",
   "execution_count": 54,
   "metadata": {},
   "outputs": [
    {
     "data": {
      "text/plain": [
       "{'alpha': 100, 'l1_ratio': 1}"
      ]
     },
     "execution_count": 54,
     "metadata": {},
     "output_type": "execute_result"
    }
   ],
   "source": []
  },
  {
   "cell_type": "markdown",
   "metadata": {},
   "source": [
    "**TASK: Evaluate your model's performance on the unseen 10% scaled test set. In the solutions notebook we achieved an MAE of $\\$$14149 and a RMSE of $\\$$20532**"
   ]
  },
  {
   "cell_type": "code",
   "execution_count": 45,
   "metadata": {},
   "outputs": [],
   "source": []
  },
  {
   "cell_type": "code",
   "execution_count": 46,
   "metadata": {},
   "outputs": [],
   "source": []
  },
  {
   "cell_type": "code",
   "execution_count": 47,
   "metadata": {},
   "outputs": [
    {
     "data": {
      "text/plain": [
       "14149.055026374837"
      ]
     },
     "execution_count": 47,
     "metadata": {},
     "output_type": "execute_result"
    }
   ],
   "source": []
  },
  {
   "cell_type": "code",
   "execution_count": 48,
   "metadata": {},
   "outputs": [
    {
     "data": {
      "text/plain": [
       "20532.890234901013"
      ]
     },
     "execution_count": 48,
     "metadata": {},
     "output_type": "execute_result"
    }
   ],
   "source": []
  },
  {
   "cell_type": "markdown",
   "metadata": {},
   "source": [
    "## Great work!\n",
    "\n",
    "----"
   ]
  }
 ],
 "metadata": {
  "kernelspec": {
   "display_name": "Python 3.9.12 ('base')",
   "language": "python",
   "name": "python3"
  },
  "language_info": {
   "codemirror_mode": {
    "name": "ipython",
    "version": 3
   },
   "file_extension": ".py",
   "mimetype": "text/x-python",
   "name": "python",
   "nbconvert_exporter": "python",
   "pygments_lexer": "ipython3",
   "version": "3.9.12"
  },
  "vscode": {
   "interpreter": {
    "hash": "d9424672070f5db1df62dea86e3357ec28779e6cd0d439eb96f7cdf7010603ab"
   }
  }
 },
 "nbformat": 4,
 "nbformat_minor": 2
}
